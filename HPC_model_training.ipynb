{
 "cells": [
  {
   "cell_type": "code",
   "execution_count": 1,
   "metadata": {},
   "outputs": [
    {
     "name": "stdout",
     "output_type": "stream",
     "text": [
      "Num of GPUs Available:  4\n",
      "TensorFlow version:  2.5.0\n"
     ]
    }
   ],
   "source": [
    "import tensorflow as tf\n",
    "print(\"Num of GPUs Available: \", len(tf.config.list_physical_devices('GPU')))\n",
    "print(\"TensorFlow version: \", tf.__version__)"
   ]
  },
  {
   "cell_type": "code",
   "execution_count": 2,
   "metadata": {},
   "outputs": [
    {
     "data": {
      "text/plain": [
       "[PhysicalDevice(name='/physical_device:CPU:0', device_type='CPU'),\n",
       " PhysicalDevice(name='/physical_device:GPU:0', device_type='GPU'),\n",
       " PhysicalDevice(name='/physical_device:GPU:1', device_type='GPU'),\n",
       " PhysicalDevice(name='/physical_device:GPU:2', device_type='GPU'),\n",
       " PhysicalDevice(name='/physical_device:GPU:3', device_type='GPU')]"
      ]
     },
     "execution_count": 2,
     "metadata": {},
     "output_type": "execute_result"
    }
   ],
   "source": [
    "tf.config.list_physical_devices()"
   ]
  },
  {
   "cell_type": "code",
   "execution_count": 3,
   "metadata": {},
   "outputs": [
    {
     "data": {
      "text/plain": [
       "[PhysicalDevice(name='/physical_device:CPU:0', device_type='CPU')]"
      ]
     },
     "execution_count": 3,
     "metadata": {},
     "output_type": "execute_result"
    }
   ],
   "source": [
    "tf.config.list_physical_devices('GPU')\n",
    "tf.config.list_physical_devices('CPU')"
   ]
  },
  {
   "cell_type": "code",
   "execution_count": 4,
   "metadata": {},
   "outputs": [
    {
     "data": {
      "text/plain": [
       "'/job:localhost/replica:0/task:0/device:GPU:0'"
      ]
     },
     "execution_count": 4,
     "metadata": {},
     "output_type": "execute_result"
    }
   ],
   "source": [
    "x = tf.random.uniform([3, 3])\n",
    "x.device"
   ]
  },
  {
   "cell_type": "code",
   "execution_count": 5,
   "metadata": {},
   "outputs": [
    {
     "name": "stdout",
     "output_type": "stream",
     "text": [
      "Is the Tensor on CPU #0:  \n",
      "False\n",
      "\n",
      "Is the Tensor on GPU #0:  \n",
      "True\n"
     ]
    }
   ],
   "source": [
    "print(\"Is the Tensor on CPU #0:  \"),\n",
    "print(x.device.endswith('CPU:0'))\n",
    "print('')\n",
    "print(\"Is the Tensor on GPU #0:  \"),\n",
    "print(x.device.endswith('GPU:0'))"
   ]
  },
  {
   "cell_type": "code",
   "execution_count": 6,
   "metadata": {},
   "outputs": [],
   "source": [
    "import time\n",
    "def time_matadd(x):\n",
    "  start = time.time()\n",
    "  for loop in range(10):\n",
    "      tf.add(x, x)\n",
    "  result = time.time()-start\n",
    "  print(\"Matrix addition (10 loops): {:0.2f}ms\".format(1000*result))\n",
    "\n",
    "def time_matmul(x):\n",
    "  start = time.time()\n",
    "  for loop in range(10):\n",
    "      tf.matmul(x, x)\n",
    "  result = time.time()-start\n",
    "  print(\"Matrix multiplication (10 loops): {:0.2f}ms\".format(1000*result))"
   ]
  },
  {
   "cell_type": "code",
   "execution_count": 7,
   "metadata": {},
   "outputs": [
    {
     "name": "stdout",
     "output_type": "stream",
     "text": [
      "On CPU:\n",
      "Matrix addition (10 loops): 3.27ms\n",
      "Matrix multiplication (10 loops): 127.77ms\n"
     ]
    }
   ],
   "source": [
    "print(\"On CPU:\")\n",
    "with tf.device(\"CPU:0\"):\n",
    "  x = tf.random.uniform([1000, 1000])\n",
    "  assert x.device.endswith(\"CPU:0\")\n",
    "  time_matadd(x)\n",
    "  time_matmul(x)"
   ]
  },
  {
   "cell_type": "code",
   "execution_count": 8,
   "metadata": {},
   "outputs": [],
   "source": [
    "import numpy as np\n",
    "import pandas as pd\n",
    "\n",
    "import pathlib\n",
    "import shutil\n",
    "import tempfile"
   ]
  },
  {
   "cell_type": "code",
   "execution_count": 9,
   "metadata": {},
   "outputs": [
    {
     "name": "stdout",
     "output_type": "stream",
     "text": [
      "Defaulting to user installation because normal site-packages is not writeable\n",
      "Requirement already satisfied: tensorflow_hub in ./.local/lib/python3.8/site-packages (0.12.0)\n",
      "Requirement already satisfied: protobuf>=3.8.0 in /cvmfs/sling.si/modules/el7/software/protobuf-python/3.14.0-GCCcore-10.2.0/lib/python3.8/site-packages (from tensorflow_hub) (3.14.0)\n",
      "Requirement already satisfied: numpy>=1.12.0 in /cvmfs/sling.si/modules/el7/software/SciPy-bundle/2020.11-fosscuda-2020b/lib/python3.8/site-packages (from tensorflow_hub) (1.19.4)\n",
      "Requirement already satisfied: six>=1.9 in /cvmfs/sling.si/modules/el7/software/Python/3.8.6-GCCcore-10.2.0/lib/python3.8/site-packages (from protobuf>=3.8.0->tensorflow_hub) (1.15.0)\n",
      "Defaulting to user installation because normal site-packages is not writeable\n",
      "Requirement already satisfied: tensorflow_datasets in ./.local/lib/python3.8/site-packages (4.5.2)\n",
      "Requirement already satisfied: absl-py in /cvmfs/sling.si/modules/el7/software/TensorFlow/2.5.0-fosscuda-2020b/lib/python3.8/site-packages (from tensorflow_datasets) (0.12.0)\n",
      "Requirement already satisfied: termcolor in /cvmfs/sling.si/modules/el7/software/TensorFlow/2.5.0-fosscuda-2020b/lib/python3.8/site-packages (from tensorflow_datasets) (1.1.0)\n",
      "Requirement already satisfied: promise in ./.local/lib/python3.8/site-packages (from tensorflow_datasets) (2.3)\n",
      "Requirement already satisfied: tqdm in ./.local/lib/python3.8/site-packages (from tensorflow_datasets) (4.64.0)\n",
      "Requirement already satisfied: requests>=2.19.0 in /cvmfs/sling.si/modules/el7/software/Python/3.8.6-GCCcore-10.2.0/lib/python3.8/site-packages (from tensorflow_datasets) (2.24.0)\n",
      "Requirement already satisfied: six in /cvmfs/sling.si/modules/el7/software/Python/3.8.6-GCCcore-10.2.0/lib/python3.8/site-packages (from tensorflow_datasets) (1.15.0)\n",
      "Requirement already satisfied: importlib-resources; python_version < \"3.9\" in ./.local/lib/python3.8/site-packages (from tensorflow_datasets) (5.7.1)\n",
      "Requirement already satisfied: dill in /cvmfs/sling.si/modules/el7/software/TensorFlow/2.5.0-fosscuda-2020b/lib/python3.8/site-packages (from tensorflow_datasets) (0.3.3)\n",
      "Requirement already satisfied: numpy in /cvmfs/sling.si/modules/el7/software/SciPy-bundle/2020.11-fosscuda-2020b/lib/python3.8/site-packages (from tensorflow_datasets) (1.19.4)\n",
      "Requirement already satisfied: tensorflow-metadata in ./.local/lib/python3.8/site-packages (from tensorflow_datasets) (1.7.0)\n",
      "Requirement already satisfied: protobuf>=3.12.2 in /cvmfs/sling.si/modules/el7/software/protobuf-python/3.14.0-GCCcore-10.2.0/lib/python3.8/site-packages (from tensorflow_datasets) (3.14.0)\n",
      "Requirement already satisfied: urllib3!=1.25.0,!=1.25.1,<1.26,>=1.21.1 in /cvmfs/sling.si/modules/el7/software/Python/3.8.6-GCCcore-10.2.0/lib/python3.8/site-packages (from requests>=2.19.0->tensorflow_datasets) (1.25.10)\n",
      "Requirement already satisfied: chardet<4,>=3.0.2 in /cvmfs/sling.si/modules/el7/software/Python/3.8.6-GCCcore-10.2.0/lib/python3.8/site-packages (from requests>=2.19.0->tensorflow_datasets) (3.0.4)\n",
      "Requirement already satisfied: idna<3,>=2.5 in /cvmfs/sling.si/modules/el7/software/Python/3.8.6-GCCcore-10.2.0/lib/python3.8/site-packages (from requests>=2.19.0->tensorflow_datasets) (2.10)\n",
      "Requirement already satisfied: certifi>=2017.4.17 in /cvmfs/sling.si/modules/el7/software/Python/3.8.6-GCCcore-10.2.0/lib/python3.8/site-packages (from requests>=2.19.0->tensorflow_datasets) (2020.6.20)\n",
      "Requirement already satisfied: zipp>=3.1.0; python_version < \"3.10\" in /cvmfs/sling.si/modules/el7/software/Python/3.8.6-GCCcore-10.2.0/lib/python3.8/site-packages (from importlib-resources; python_version < \"3.9\"->tensorflow_datasets) (3.3.0)\n",
      "Requirement already satisfied: googleapis-common-protos<2,>=1.52.0 in ./.local/lib/python3.8/site-packages (from tensorflow-metadata->tensorflow_datasets) (1.56.0)\n"
     ]
    }
   ],
   "source": [
    "!pip install tensorflow_hub\n",
    "!pip install tensorflow_datasets\n",
    "!pip install -q git+https://github.com/tensorflow/docs"
   ]
  },
  {
   "cell_type": "code",
   "execution_count": 10,
   "metadata": {},
   "outputs": [
    {
     "name": "stdout",
     "output_type": "stream",
     "text": [
      "Version:  2.5.0\n",
      "Hub version:  0.12.0\n",
      "GPU is available\n",
      "Number of GPUs : 4\n"
     ]
    }
   ],
   "source": [
    "import tensorflow_hub as hub\n",
    "import tensorflow_datasets as tfds\n",
    "import matplotlib.pyplot as plt\n",
    "plt.rcParams['figure.figsize'] = (12, 8)\n",
    "from  IPython import display\n",
    "%matplotlib inline\n",
    "\n",
    "import pathlib\n",
    "import shutil\n",
    "import tempfile\n",
    "import os\n",
    "\n",
    "import tensorflow_docs as tfdocs\n",
    "import tensorflow_docs.modeling\n",
    "import tensorflow_docs.plots\n",
    "from sklearn.model_selection import train_test_split\n",
    "\n",
    "print(\"Version: \", tf.__version__)\n",
    "print(\"Hub version: \", hub.__version__)\n",
    "print(\"GPU is\", \"available\" if tf.config.list_physical_devices('GPU') else \"NOT AVAILABLE\")\n",
    "print('Number of GPUs :',len(tf.config.list_physical_devices('GPU')))\n",
    "\n",
    "logdir = pathlib.Path(tempfile.mkdtemp())/\"tensorboard_logs\"\n",
    "shutil.rmtree(logdir, ignore_errors=True)"
   ]
  },
  {
   "cell_type": "code",
   "execution_count": 11,
   "metadata": {},
   "outputs": [
    {
     "data": {
      "text/plain": [
       "(1306122, 3)"
      ]
     },
     "execution_count": 11,
     "metadata": {},
     "output_type": "execute_result"
    }
   ],
   "source": [
    "if os.path.exists('dataset.pkl'):\n",
    "    df = pd.read_pickle('dataset.pkl')\n",
    "else:\n",
    "    df = pd.read_csv('https://archive.org/download/fine-tune-bert-tensorflow-train.csv/train.csv.zip', \n",
    "             compression='zip', low_memory=False)\n",
    "    df.to_pickle('dataset.pkl')\n",
    "df.shape"
   ]
  },
  {
   "cell_type": "code",
   "execution_count": 12,
   "metadata": {},
   "outputs": [
    {
     "data": {
      "text/plain": [
       "<AxesSubplot:title={'center':'Target distribution'}, ylabel='Frequency'>"
      ]
     },
     "execution_count": 12,
     "metadata": {},
     "output_type": "execute_result"
    },
    {
     "data": {
      "image/png": "[encoded data removed]",
      "text/plain": [
       "<Figure size 432x288 with 1 Axes>"
      ]
     },
     "metadata": {
      "needs_background": "light"
     },
     "output_type": "display_data"
    }
   ],
   "source": [
    "df['target'].plot(kind='hist', title='Target distribution')"
   ]
  },
  {
   "cell_type": "code",
   "execution_count": 13,
   "metadata": {},
   "outputs": [
    {
     "name": "stdout",
     "output_type": "stream",
     "text": [
      "(130612, 3) (1175, 3)\n"
     ]
    }
   ],
   "source": [
    "train_df, remaining = train_test_split(df, random_state=42, train_size=0.1, stratify=df.target.values)\n",
    "valid_df, _  = train_test_split(remaining, random_state=42, train_size=0.001, stratify=remaining.target.values)\n",
    "print(train_df.shape, valid_df.shape)"
   ]
  },
  {
   "cell_type": "code",
   "execution_count": 14,
   "metadata": {},
   "outputs": [],
   "source": [
    "buffer_size = train_df.size\n",
    "batch_size = 256\n",
    "train_dataset = tf.data.Dataset.from_tensor_slices((train_df.question_text.values, train_df.target.values)).shuffle(buffer_size).batch(batch_size)\n",
    "valid_dataset = tf.data.Dataset.from_tensor_slices((valid_df.question_text.values, valid_df.target.values)).batch(batch_size)"
   ]
  },
  {
   "cell_type": "code",
   "execution_count": 15,
   "metadata": {},
   "outputs": [
    {
     "name": "stdout",
     "output_type": "stream",
     "text": [
      "511\n"
     ]
    },
    {
     "data": {
      "text/plain": [
       "511"
      ]
     },
     "execution_count": 15,
     "metadata": {},
     "output_type": "execute_result"
    }
   ],
   "source": [
    "num = 0;\n",
    "for x, y in train_dataset:\n",
    "    num += 1\n",
    "print(num)\n",
    "train_df.shape[0]//256 + 1"
   ]
  },
  {
   "cell_type": "code",
   "execution_count": 16,
   "metadata": {},
   "outputs": [],
   "source": [
    "module_url = \"https://tfhub.dev/google/tf2-preview/nnlm-en-dim128/1\"\n",
    "embeding_size = 128\n",
    "name_of_model = 'nnlm-en-dim128'"
   ]
  },
  {
   "cell_type": "code",
   "execution_count": 17,
   "metadata": {},
   "outputs": [],
   "source": [
    "def train_and_evaluate_model(module_url, embed_size, name, trainable=False):\n",
    "    hub_layer = hub.KerasLayer(module_url, input_shape=[], output_shape=[embed_size], dtype = tf.string, trainable=trainable)\n",
    "    model = tf.keras.models.Sequential([\n",
    "                                      hub_layer,\n",
    "                                      tf.keras.layers.Dense(256, activation='relu'),\n",
    "                                      tf.keras.layers.Dense(64, activation='relu'),\n",
    "                                      tf.keras.layers.Dense(1, activation='sigmoid')\n",
    "    ])\n",
    "    \n",
    "    model.compile(optimizer=tf.keras.optimizers.Adam(learning_rate=0.0001),\n",
    "                loss = tf.losses.BinaryCrossentropy(),\n",
    "                metrics = [tf.metrics.BinaryAccuracy(name='accuracy')])\n",
    "    history = model.fit(train_dataset,\n",
    "                      epochs = 100,\n",
    "                      validation_data=valid_dataset,\n",
    "                      callbacks=[tfdocs.modeling.EpochDots(),\n",
    "                                 tf.keras.callbacks.EarlyStopping(monitor='val_loss', patience=2, mode='min'),\n",
    "                                 tf.keras.callbacks.TensorBoard(logdir/name)],\n",
    "                      verbose = 0\n",
    "                      )\n",
    "    return history"
   ]
  },
  {
   "cell_type": "code",
   "execution_count": 18,
   "metadata": {},
   "outputs": [
    {
     "name": "stdout",
     "output_type": "stream",
     "text": [
      "WARNING:tensorflow:Callback method `on_train_batch_begin` is slow compared to the batch time (batch time: 0.0037s vs `on_train_batch_begin` time: 0.0595s). Check your callbacks.\n"
     ]
    },
    {
     "name": "stderr",
     "output_type": "stream",
     "text": [
      "WARNING:tensorflow:Callback method `on_train_batch_begin` is slow compared to the batch time (batch time: 0.0037s vs `on_train_batch_begin` time: 0.0595s). Check your callbacks.\n"
     ]
    },
    {
     "name": "stdout",
     "output_type": "stream",
     "text": [
      "WARNING:tensorflow:Callback method `on_train_batch_end` is slow compared to the batch time (batch time: 0.0037s vs `on_train_batch_end` time: 0.0420s). Check your callbacks.\n"
     ]
    },
    {
     "name": "stderr",
     "output_type": "stream",
     "text": [
      "WARNING:tensorflow:Callback method `on_train_batch_end` is slow compared to the batch time (batch time: 0.0037s vs `on_train_batch_end` time: 0.0420s). Check your callbacks.\n"
     ]
    },
    {
     "name": "stdout",
     "output_type": "stream",
     "text": [
      "\n",
      "Epoch: 0, accuracy:0.9364,  loss:0.2840,  val_accuracy:0.9379,  val_loss:0.1768,  \n",
      "......................\n",
      " \n",
      " Time for 40582.165479660034 ms\n"
     ]
    }
   ],
   "source": [
    "histories = {}\n",
    "\n",
    "start = time.time()\n",
    "histories[name_of_model] = train_and_evaluate_model(module_url, embed_size=embeding_size, name=name_of_model)\n",
    "endt = time.time()-start\n",
    "print(\"\\n \\n Time for {} ms\".format(1000*endt))"
   ]
  },
  {
   "cell_type": "code",
   "execution_count": 19,
   "metadata": {},
   "outputs": [
    {
     "data": {
      "image/png": "[encoded data removed]",
      "text/plain": [
       "<Figure size 864x576 with 1 Axes>"
      ]
     },
     "metadata": {
      "needs_background": "light"
     },
     "output_type": "display_data"
    }
   ],
   "source": [
    "plt.rcParams['figure.figsize'] = (12, 8)\n",
    "plotter = tfdocs.plots.HistoryPlotter(metric = 'accuracy')\n",
    "plotter.plot(histories)\n",
    "plt.xlabel(\"Epochs\")\n",
    "plt.legend(bbox_to_anchor=(1.0, 1.0), loc='upper left')\n",
    "plt.title(\"Accuracy Curves for Models\")\n",
    "plt.show()"
   ]
  },
  {
   "cell_type": "code",
   "execution_count": 20,
   "metadata": {},
   "outputs": [
    {
     "data": {
      "image/png": "[encoded data removed]",
      "text/plain": [
       "<Figure size 864x576 with 1 Axes>"
      ]
     },
     "metadata": {
      "needs_background": "light"
     },
     "output_type": "display_data"
    }
   ],
   "source": [
    "plotter = tfdocs.plots.HistoryPlotter(metric = 'loss')\n",
    "plotter.plot(histories)\n",
    "plt.xlabel(\"Epochs\")\n",
    "plt.legend(bbox_to_anchor=(1.0, 1.0), loc='upper left')\n",
    "plt.title(\"Loss Curves for Models\")\n",
    "plt.show()"
   ]
  },
  {
   "cell_type": "markdown",
   "metadata": {},
   "source": [
    "Distributed Training"
   ]
  },
  {
   "cell_type": "code",
   "execution_count": 21,
   "metadata": {},
   "outputs": [
    {
     "name": "stdout",
     "output_type": "stream",
     "text": [
      "WARNING:tensorflow:Collective ops is not configured at program startup. Some performance features may not be enabled.\n"
     ]
    },
    {
     "name": "stderr",
     "output_type": "stream",
     "text": [
      "WARNING:tensorflow:Collective ops is not configured at program startup. Some performance features may not be enabled.\n"
     ]
    },
    {
     "name": "stdout",
     "output_type": "stream",
     "text": [
      "INFO:tensorflow:Using MirroredStrategy with devices ('/job:localhost/replica:0/task:0/device:GPU:0', '/job:localhost/replica:0/task:0/device:GPU:1', '/job:localhost/replica:0/task:0/device:GPU:2', '/job:localhost/replica:0/task:0/device:GPU:3')\n"
     ]
    },
    {
     "name": "stderr",
     "output_type": "stream",
     "text": [
      "INFO:tensorflow:Using MirroredStrategy with devices ('/job:localhost/replica:0/task:0/device:GPU:0', '/job:localhost/replica:0/task:0/device:GPU:1', '/job:localhost/replica:0/task:0/device:GPU:2', '/job:localhost/replica:0/task:0/device:GPU:3')\n"
     ]
    }
   ],
   "source": [
    "strategy = tf.distribute.MirroredStrategy()"
   ]
  },
  {
   "cell_type": "code",
   "execution_count": 22,
   "metadata": {},
   "outputs": [
    {
     "name": "stdout",
     "output_type": "stream",
     "text": [
      "Number of devices: 4\n"
     ]
    }
   ],
   "source": [
    "print ('Number of devices: {}'.format(strategy.num_replicas_in_sync))"
   ]
  },
  {
   "cell_type": "code",
   "execution_count": 23,
   "metadata": {},
   "outputs": [],
   "source": [
    "buffer_size = train_df.size\n",
    "batch_size_per_replica = 64\n",
    "global_batch_size = batch_size_per_replica * strategy.num_replicas_in_sync"
   ]
  },
  {
   "cell_type": "code",
   "execution_count": 24,
   "metadata": {},
   "outputs": [],
   "source": [
    "train_dataset = (tf.data.Dataset.from_tensor_slices((train_df.question_text.values, train_df.target.values))\n",
    "                .shuffle(buffer_size)\n",
    "                .batch(global_batch_size, drop_remainder=True)\n",
    "                .prefetch(tf.data.experimental.AUTOTUNE)) #.shuffle(buffer_size)\n",
    "\n",
    "valid_dataset = (tf.data.Dataset.from_tensor_slices((valid_df.question_text.values, valid_df.target.values))\n",
    "                .batch(global_batch_size, drop_remainder=True)\n",
    "                .prefetch(tf.data.experimental.AUTOTUNE))"
   ]
  },
  {
   "cell_type": "code",
   "execution_count": 25,
   "metadata": {},
   "outputs": [],
   "source": [
    "def train_and_evaluate_model(module_url, embed_size, name, trainable=False):\n",
    "    hub_layer = hub.KerasLayer(module_url, input_shape=[], output_shape=[embed_size], dtype = tf.string, trainable=trainable)\n",
    "    model = tf.keras.models.Sequential([\n",
    "                                      hub_layer,\n",
    "                                      tf.keras.layers.Dense(256, activation='relu'),\n",
    "                                      tf.keras.layers.Dense(64, activation='relu'),\n",
    "                                      tf.keras.layers.Dense(1, activation='sigmoid')\n",
    "    ])\n",
    "\n",
    "    model.compile(optimizer=tf.keras.optimizers.Adam(learning_rate=0.0001),\n",
    "                loss = tf.losses.BinaryCrossentropy(),\n",
    "                metrics = [tf.metrics.BinaryAccuracy(name='accuracy')])\n",
    "    history = model.fit(train_dataset, #train_df['question_text'], train_df['target'],\n",
    "                      epochs = 100,\n",
    "                      batch_size=32,\n",
    "                      validation_data=valid_dataset, #(valid_df['question_text'], valid_df['target']),\n",
    "                      callbacks=[tfdocs.modeling.EpochDots(),\n",
    "                                 tf.keras.callbacks.EarlyStopping(monitor='val_loss', patience=2, mode='min'),\n",
    "                                 tf.keras.callbacks.TensorBoard(logdir/name)],\n",
    "                      verbose = 0\n",
    "                      )\n",
    "    return history"
   ]
  },
  {
   "cell_type": "code",
   "execution_count": 26,
   "metadata": {},
   "outputs": [
    {
     "name": "stdout",
     "output_type": "stream",
     "text": [
      "INFO:tensorflow:Reduce to /job:localhost/replica:0/task:0/device:CPU:0 then broadcast to ('/job:localhost/replica:0/task:0/device:CPU:0',).\n"
     ]
    },
    {
     "name": "stderr",
     "output_type": "stream",
     "text": [
      "INFO:tensorflow:Reduce to /job:localhost/replica:0/task:0/device:CPU:0 then broadcast to ('/job:localhost/replica:0/task:0/device:CPU:0',).\n"
     ]
    },
    {
     "name": "stdout",
     "output_type": "stream",
     "text": [
      "INFO:tensorflow:Reduce to /job:localhost/replica:0/task:0/device:CPU:0 then broadcast to ('/job:localhost/replica:0/task:0/device:CPU:0',).\n"
     ]
    },
    {
     "name": "stderr",
     "output_type": "stream",
     "text": [
      "INFO:tensorflow:Reduce to /job:localhost/replica:0/task:0/device:CPU:0 then broadcast to ('/job:localhost/replica:0/task:0/device:CPU:0',).\n"
     ]
    },
    {
     "name": "stdout",
     "output_type": "stream",
     "text": [
      "INFO:tensorflow:Reduce to /job:localhost/replica:0/task:0/device:CPU:0 then broadcast to ('/job:localhost/replica:0/task:0/device:CPU:0',).\n"
     ]
    },
    {
     "name": "stderr",
     "output_type": "stream",
     "text": [
      "INFO:tensorflow:Reduce to /job:localhost/replica:0/task:0/device:CPU:0 then broadcast to ('/job:localhost/replica:0/task:0/device:CPU:0',).\n"
     ]
    },
    {
     "name": "stdout",
     "output_type": "stream",
     "text": [
      "INFO:tensorflow:Reduce to /job:localhost/replica:0/task:0/device:CPU:0 then broadcast to ('/job:localhost/replica:0/task:0/device:CPU:0',).\n"
     ]
    },
    {
     "name": "stderr",
     "output_type": "stream",
     "text": [
      "INFO:tensorflow:Reduce to /job:localhost/replica:0/task:0/device:CPU:0 then broadcast to ('/job:localhost/replica:0/task:0/device:CPU:0',).\n"
     ]
    },
    {
     "name": "stdout",
     "output_type": "stream",
     "text": [
      "INFO:tensorflow:Reduce to /job:localhost/replica:0/task:0/device:CPU:0 then broadcast to ('/job:localhost/replica:0/task:0/device:CPU:0',).\n"
     ]
    },
    {
     "name": "stderr",
     "output_type": "stream",
     "text": [
      "INFO:tensorflow:Reduce to /job:localhost/replica:0/task:0/device:CPU:0 then broadcast to ('/job:localhost/replica:0/task:0/device:CPU:0',).\n"
     ]
    },
    {
     "name": "stdout",
     "output_type": "stream",
     "text": [
      "INFO:tensorflow:Reduce to /job:localhost/replica:0/task:0/device:CPU:0 then broadcast to ('/job:localhost/replica:0/task:0/device:CPU:0',).\n"
     ]
    },
    {
     "name": "stderr",
     "output_type": "stream",
     "text": [
      "INFO:tensorflow:Reduce to /job:localhost/replica:0/task:0/device:CPU:0 then broadcast to ('/job:localhost/replica:0/task:0/device:CPU:0',).\n"
     ]
    },
    {
     "name": "stdout",
     "output_type": "stream",
     "text": [
      "INFO:tensorflow:Reduce to /job:localhost/replica:0/task:0/device:CPU:0 then broadcast to ('/job:localhost/replica:0/task:0/device:CPU:0',).\n"
     ]
    },
    {
     "name": "stderr",
     "output_type": "stream",
     "text": [
      "INFO:tensorflow:Reduce to /job:localhost/replica:0/task:0/device:CPU:0 then broadcast to ('/job:localhost/replica:0/task:0/device:CPU:0',).\n"
     ]
    },
    {
     "name": "stdout",
     "output_type": "stream",
     "text": [
      "INFO:tensorflow:Reduce to /job:localhost/replica:0/task:0/device:CPU:0 then broadcast to ('/job:localhost/replica:0/task:0/device:CPU:0',).\n"
     ]
    },
    {
     "name": "stderr",
     "output_type": "stream",
     "text": [
      "INFO:tensorflow:Reduce to /job:localhost/replica:0/task:0/device:CPU:0 then broadcast to ('/job:localhost/replica:0/task:0/device:CPU:0',).\n"
     ]
    },
    {
     "name": "stdout",
     "output_type": "stream",
     "text": [
      "INFO:tensorflow:batch_all_reduce: 6 all-reduces with algorithm = nccl, num_packs = 1\n"
     ]
    },
    {
     "name": "stderr",
     "output_type": "stream",
     "text": [
      "INFO:tensorflow:batch_all_reduce: 6 all-reduces with algorithm = nccl, num_packs = 1\n"
     ]
    },
    {
     "name": "stdout",
     "output_type": "stream",
     "text": [
      "INFO:tensorflow:Reduce to /job:localhost/replica:0/task:0/device:CPU:0 then broadcast to ('/job:localhost/replica:0/task:0/device:CPU:0',).\n"
     ]
    },
    {
     "name": "stderr",
     "output_type": "stream",
     "text": [
      "INFO:tensorflow:Reduce to /job:localhost/replica:0/task:0/device:CPU:0 then broadcast to ('/job:localhost/replica:0/task:0/device:CPU:0',).\n"
     ]
    },
    {
     "name": "stdout",
     "output_type": "stream",
     "text": [
      "INFO:tensorflow:Reduce to /job:localhost/replica:0/task:0/device:CPU:0 then broadcast to ('/job:localhost/replica:0/task:0/device:CPU:0',).\n"
     ]
    },
    {
     "name": "stderr",
     "output_type": "stream",
     "text": [
      "INFO:tensorflow:Reduce to /job:localhost/replica:0/task:0/device:CPU:0 then broadcast to ('/job:localhost/replica:0/task:0/device:CPU:0',).\n"
     ]
    },
    {
     "name": "stdout",
     "output_type": "stream",
     "text": [
      "INFO:tensorflow:batch_all_reduce: 6 all-reduces with algorithm = nccl, num_packs = 1\n"
     ]
    },
    {
     "name": "stderr",
     "output_type": "stream",
     "text": [
      "INFO:tensorflow:batch_all_reduce: 6 all-reduces with algorithm = nccl, num_packs = 1\n"
     ]
    },
    {
     "name": "stdout",
     "output_type": "stream",
     "text": [
      "WARNING:tensorflow:Callback method `on_train_batch_begin` is slow compared to the batch time (batch time: 0.0079s vs `on_train_batch_begin` time: 0.1052s). Check your callbacks.\n"
     ]
    },
    {
     "name": "stderr",
     "output_type": "stream",
     "text": [
      "WARNING:tensorflow:Callback method `on_train_batch_begin` is slow compared to the batch time (batch time: 0.0079s vs `on_train_batch_begin` time: 0.1052s). Check your callbacks.\n"
     ]
    },
    {
     "name": "stdout",
     "output_type": "stream",
     "text": [
      "WARNING:tensorflow:Callback method `on_train_batch_end` is slow compared to the batch time (batch time: 0.0079s vs `on_train_batch_end` time: 0.4891s). Check your callbacks.\n"
     ]
    },
    {
     "name": "stderr",
     "output_type": "stream",
     "text": [
      "WARNING:tensorflow:Callback method `on_train_batch_end` is slow compared to the batch time (batch time: 0.0079s vs `on_train_batch_end` time: 0.4891s). Check your callbacks.\n"
     ]
    },
    {
     "name": "stdout",
     "output_type": "stream",
     "text": [
      "\n",
      "Epoch: 0, accuracy:0.9374,  loss:0.2724,  val_accuracy:0.9385,  val_loss:0.1702,  \n",
      "...................\n",
      " \n",
      " Time for 86904.81781959534 ms\n"
     ]
    }
   ],
   "source": [
    "with strategy.scope():\n",
    "   start = time.time()\n",
    "   histories['nnlm-en-dim128'] = train_and_evaluate_model(module_url, embed_size=128, name='nnlm-en-dim128')\n",
    "   endt = time.time()-start\n",
    "   print(\"\\n \\n Time for {} ms\".format(1000*endt))"
   ]
  },
  {
   "cell_type": "code",
   "execution_count": 27,
   "metadata": {},
   "outputs": [],
   "source": [
    "buffer_size = train_df.size\n",
    "batch_size_per_replica = 64\n",
    "global_batch_size = batch_size_per_replica * strategy.num_replicas_in_sync\n",
    "\n",
    "train_dataset = (tf.data.Dataset.from_tensor_slices((train_df.question_text.values[...,None], train_df.target.values[...,None]))\n",
    "                .shuffle(buffer_size)\n",
    "                .batch(global_batch_size, drop_remainder=True)\n",
    "                .prefetch(tf.data.experimental.AUTOTUNE))\n",
    "\n",
    "valid_dataset = (tf.data.Dataset.from_tensor_slices((valid_df.question_text.values[...,None], valid_df.target.values[...,None]))\n",
    "                .batch(global_batch_size, drop_remainder=True)\n",
    "                .prefetch(tf.data.experimental.AUTOTUNE))"
   ]
  },
  {
   "cell_type": "code",
   "execution_count": 28,
   "metadata": {},
   "outputs": [],
   "source": [
    "module_url = \"https://tfhub.dev/google/tf2-preview/nnlm-en-dim128/1\"\n",
    "embeding_size = 128\n",
    "name_of_model = 'nnlm-en-dim128/1'\n",
    "def create_model(module_url, embed_size, name, trainable=False):\n",
    "    hub_layer = hub.KerasLayer(module_url, input_shape=[],\n",
    "                               output_shape=[embed_size],dtype = tf.string, trainable=trainable)\n",
    "\n",
    "    model = tf.keras.models.Sequential([hub_layer,\n",
    "                                        tf.keras.layers.Dense(256, activation='relu'),\n",
    "                                        tf.keras.layers.Dense(64, activation='relu'),\n",
    "                                        tf.keras.layers.Dense(1, activation='sigmoid')])\n",
    "    return model"
   ]
  },
  {
   "cell_type": "code",
   "execution_count": 29,
   "metadata": {},
   "outputs": [],
   "source": [
    "with strategy.scope():\n",
    "# Set reduction to `none` so we can do the reduction afterwards and divide by\n",
    "# global batch size.\n",
    "\n",
    "    loss_object = tf.losses.BinaryCrossentropy(\n",
    "        from_logits=False,\n",
    "        reduction=tf.losses.Reduction.NONE)\n",
    "\n",
    "    def compute_loss(labels, predictions):\n",
    "        per_example_loss = loss_object(labels, predictions)\n",
    "        return tf.nn.compute_average_loss(per_example_loss, global_batch_size=global_batch_size)\n",
    "\n",
    "    train_accuracy = tf.metrics.BinaryAccuracy(name='train_accuracy')\n",
    "    valid_accuracy = tf.metrics.BinaryAccuracy(name='valid_accuracy')\n",
    "\n",
    "    model = create_model(module_url, embed_size=embeding_size, name=name_of_model, trainable=False)\n",
    "    optimizer = tf.optimizers.Adam()"
   ]
  },
  {
   "cell_type": "code",
   "execution_count": 30,
   "metadata": {},
   "outputs": [],
   "source": [
    "def train_step(inputs):\n",
    "    texts, labels = inputs\n",
    "\n",
    "    with tf.GradientTape() as tape:\n",
    "        predictions = model(texts, training=True)\n",
    "        loss = compute_loss(labels, predictions)\n",
    "\n",
    "    gradients = tape.gradient(loss, model.trainable_variables)\n",
    "    optimizer.apply_gradients(zip(gradients, model.trainable_variables))\n",
    "\n",
    "    train_accuracy.update_state(labels, predictions)\n",
    "    return loss\n",
    "\n",
    "def valid_step(inputs):\n",
    "    texts, labels = inputs\n",
    "\n",
    "    predictions = model(texts, training=False)\n",
    "    v_loss = compute_loss(labels, predictions)\n",
    "\n",
    "    valid_accuracy.update_state(labels, predictions)\n",
    "\n",
    "    return v_loss"
   ]
  },
  {
   "cell_type": "code",
   "execution_count": 31,
   "metadata": {},
   "outputs": [],
   "source": [
    "train_dist_dataset = strategy.experimental_distribute_dataset(train_dataset)\n",
    "valid_dist_dataset = strategy.experimental_distribute_dataset(valid_dataset)"
   ]
  },
  {
   "cell_type": "markdown",
   "metadata": {},
   "source": [
    "Without early stopping"
   ]
  },
  {
   "cell_type": "code",
   "execution_count": 32,
   "metadata": {},
   "outputs": [
    {
     "name": "stdout",
     "output_type": "stream",
     "text": [
      "INFO:tensorflow:batch_all_reduce: 6 all-reduces with algorithm = nccl, num_packs = 1\n"
     ]
    },
    {
     "name": "stderr",
     "output_type": "stream",
     "text": [
      "INFO:tensorflow:batch_all_reduce: 6 all-reduces with algorithm = nccl, num_packs = 1\n"
     ]
    },
    {
     "name": "stdout",
     "output_type": "stream",
     "text": [
      "INFO:tensorflow:batch_all_reduce: 6 all-reduces with algorithm = nccl, num_packs = 1\n"
     ]
    },
    {
     "name": "stderr",
     "output_type": "stream",
     "text": [
      "INFO:tensorflow:batch_all_reduce: 6 all-reduces with algorithm = nccl, num_packs = 1\n"
     ]
    },
    {
     "name": "stdout",
     "output_type": "stream",
     "text": [
      "Epoch 1, Loss: 0.1662, Accuracy: 94.2678, Valid Loss: 0.1375, Valid Accuracy: 94.9219\n",
      "Epoch 2, Loss: 0.1420, Accuracy: 94.7480, Valid Loss: 0.1316, Valid Accuracy: 94.6289\n",
      "Epoch 3, Loss: 0.1372, Accuracy: 94.9012, Valid Loss: 0.1320, Valid Accuracy: 94.7266\n",
      "Epoch 4, Loss: 0.1324, Accuracy: 95.0528, Valid Loss: 0.1358, Valid Accuracy: 94.7266\n",
      "Epoch 5, Loss: 0.1278, Accuracy: 95.1861, Valid Loss: 0.1316, Valid Accuracy: 95.0195\n",
      "Epoch 6, Loss: 0.1231, Accuracy: 95.3431, Valid Loss: 0.1318, Valid Accuracy: 95.2148\n",
      "Epoch 7, Loss: 0.1181, Accuracy: 95.5591, Valid Loss: 0.1410, Valid Accuracy: 95.2148\n",
      "Epoch 8, Loss: 0.1132, Accuracy: 95.7445, Valid Loss: 0.1399, Valid Accuracy: 94.8242\n",
      "Epoch 9, Loss: 0.1085, Accuracy: 95.9061, Valid Loss: 0.1387, Valid Accuracy: 94.5312\n",
      "Epoch 10, Loss: 0.1037, Accuracy: 96.1497, Valid Loss: 0.1392, Valid Accuracy: 94.6289\n",
      "Epoch 11, Loss: 0.0986, Accuracy: 96.3021, Valid Loss: 0.1469, Valid Accuracy: 94.3359\n",
      "Epoch 12, Loss: 0.0943, Accuracy: 96.4936, Valid Loss: 0.1448, Valid Accuracy: 94.3359\n",
      "Epoch 13, Loss: 0.0888, Accuracy: 96.7226, Valid Loss: 0.1563, Valid Accuracy: 95.1172\n",
      "Epoch 14, Loss: 0.0840, Accuracy: 96.9164, Valid Loss: 0.1560, Valid Accuracy: 94.0430\n",
      "Epoch 15, Loss: 0.0794, Accuracy: 97.0489, Valid Loss: 0.1700, Valid Accuracy: 94.2383\n",
      "Epoch 16, Loss: 0.0744, Accuracy: 97.2702, Valid Loss: 0.1700, Valid Accuracy: 94.2383\n",
      "Epoch 17, Loss: 0.0690, Accuracy: 97.4732, Valid Loss: 0.1631, Valid Accuracy: 94.0430\n",
      "Epoch 18, Loss: 0.0645, Accuracy: 97.6608, Valid Loss: 0.1817, Valid Accuracy: 94.4336\n",
      "Epoch 19, Loss: 0.0603, Accuracy: 97.8585, Valid Loss: 0.1805, Valid Accuracy: 94.3359\n",
      "Epoch 20, Loss: 0.0555, Accuracy: 98.0162, Valid Loss: 0.2186, Valid Accuracy: 92.5781\n"
     ]
    }
   ],
   "source": [
    "epochs = 20\n",
    "# `run` replicates the provided computation and runs it\n",
    "# with the distributed input.\n",
    "@tf.function\n",
    "def distributed_train_step(dataset_inputs):\n",
    "    per_replica_losses = strategy.run(train_step, args=(dataset_inputs,))\n",
    "    return strategy.reduce(tf.distribute.ReduceOp.SUM, per_replica_losses,\n",
    "                         axis=None)\n",
    "\n",
    "@tf.function\n",
    "def distributed_valid_step(dataset_inputs):\n",
    "    per_replica_losses = strategy.run(valid_step, args=(dataset_inputs,))\n",
    "    return strategy.reduce(tf.distribute.ReduceOp.SUM, per_replica_losses,\n",
    "                         axis=None)\n",
    "\n",
    "history_df = pd.DataFrame(columns=['epochs', 'train_loss', 'valid_loss', 'train_acc', 'valid_acc'])\n",
    "\n",
    "start = time.time()\n",
    "for epoch in range(epochs):\n",
    "    # TRAIN LOOP\n",
    "    total_loss = 0.0\n",
    "    num_batches = 0\n",
    "\n",
    "    for x in train_dist_dataset:\n",
    "        total_loss += distributed_train_step(x)\n",
    "        num_batches += 1\n",
    "    train_loss = total_loss / num_batches\n",
    "\n",
    "    # TEST LOOP\n",
    "    v_total_loss = 0.0\n",
    "    v_num_batches = 0\n",
    "    for x in valid_dist_dataset:\n",
    "        v_total_loss += distributed_valid_step(x)\n",
    "        v_num_batches += 1\n",
    "    valid_loss = v_total_loss / v_num_batches\n",
    "\n",
    "    template = (\"Epoch {}, Loss: {:.4f}, Accuracy: {:.4f}, Valid Loss: {:.4f}, Valid Accuracy: {:.4f}\")\n",
    "    print(template.format(epoch + 1, train_loss,\n",
    "                         train_accuracy.result() * 100,\n",
    "                         valid_loss,\n",
    "                         valid_accuracy.result() * 100))\n",
    "\n",
    "    history_df = history_df.append({'epochs':epoch + 1,\n",
    "                                    'train_loss':train_loss.numpy(),\n",
    "                                    'valid_loss':valid_loss.numpy(),\n",
    "                                    'train_acc':train_accuracy.result().numpy() * 100,\n",
    "                                    'valid_acc':valid_accuracy.result().numpy() * 100},\n",
    "                                  ignore_index=True)\n",
    "\n",
    "    train_accuracy.reset_states()\n",
    "    valid_accuracy.reset_states()\n",
    "\n",
    "endt = time.time()\n",
    "timelp = 1000*(endt-start)"
   ]
  },
  {
   "cell_type": "code",
   "execution_count": null,
   "metadata": {},
   "outputs": [],
   "source": []
  },
  {
   "cell_type": "code",
   "execution_count": null,
   "metadata": {},
   "outputs": [],
   "source": []
  },
  {
   "cell_type": "code",
   "execution_count": null,
   "metadata": {},
   "outputs": [],
   "source": []
  },
  {
   "cell_type": "code",
   "execution_count": null,
   "metadata": {},
   "outputs": [],
   "source": []
  },
  {
   "cell_type": "code",
   "execution_count": null,
   "metadata": {},
   "outputs": [],
   "source": []
  },
  {
   "cell_type": "code",
   "execution_count": null,
   "metadata": {},
   "outputs": [],
   "source": []
  },
  {
   "cell_type": "code",
   "execution_count": null,
   "metadata": {},
   "outputs": [],
   "source": []
  },
  {
   "cell_type": "code",
   "execution_count": null,
   "metadata": {},
   "outputs": [],
   "source": []
  },
  {
   "cell_type": "code",
   "execution_count": null,
   "metadata": {},
   "outputs": [],
   "source": []
  },
  {
   "cell_type": "code",
   "execution_count": null,
   "metadata": {},
   "outputs": [],
   "source": [
    "%load_ext tensorboard\n",
    "%tensorboard --logdir {logdir} --host mel2038 --port 8888"
   ]
  }
 ],
 "metadata": {
  "kernelspec": {
   "display_name": "Python 3",
   "language": "python",
   "name": "python3"
  },
  "language_info": {
   "codemirror_mode": {
    "name": "ipython",
    "version": 3
   },
   "file_extension": ".py",
   "mimetype": "text/x-python",
   "name": "python",
   "nbconvert_exporter": "python",
   "pygments_lexer": "ipython3",
   "version": "3.8.5"
  }
 },
 "nbformat": 4,
 "nbformat_minor": 4
}
